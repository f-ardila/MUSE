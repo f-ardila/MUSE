{
 "cells": [
  {
   "cell_type": "code",
   "execution_count": 1,
   "metadata": {},
   "outputs": [],
   "source": [
    "import numpy as np\n",
    "import matplotlib. pyplot as plt\n",
    "import h5py"
   ]
  },
  {
   "cell_type": "code",
   "execution_count": 11,
   "metadata": {},
   "outputs": [],
   "source": [
    "data_loc = '/Users/fardila/Documents/GitHub/MUSE/Data'"
   ]
  },
  {
   "cell_type": "code",
   "execution_count": 30,
   "metadata": {},
   "outputs": [
    {
     "data": {
      "text/plain": [
       "['/Users/fardila/Documents/GitHub/MUSE/Data/PGC007748PGC007748_mismatch.fits',\n",
       " '/Users/fardila/Documents/GitHub/MUSE/Data/PGC004500PGC004500_mismatch.fits',\n",
       " '/Users/fardila/Documents/GitHub/MUSE/Data/PGC003342PGC003342_mismatch.fits']"
      ]
     },
     "execution_count": 30,
     "metadata": {},
     "output_type": "execute_result"
    }
   ],
   "source": [
    "# Get the list of all files in directory tree at given path\n",
    "mismatch_files = []\n",
    "for (dirpath, dirnames, filenames) in os.walk(data_loc):\n",
    "    mismatch_files += [dirpath+f for f in filenames if f.endswith('mismatch.fits')]\n",
    "mismatch_files"
   ]
  },
  {
   "cell_type": "markdown",
   "metadata": {},
   "source": [
    "read in mismatch fits files. in circular annuli get average mismatch values. plot profile."
   ]
  },
  {
   "cell_type": "code",
   "execution_count": null,
   "metadata": {},
   "outputs": [],
   "source": []
  }
 ],
 "metadata": {
  "kernelspec": {
   "display_name": "Python 2",
   "language": "python",
   "name": "python2"
  },
  "language_info": {
   "codemirror_mode": {
    "name": "ipython",
    "version": 2
   },
   "file_extension": ".py",
   "mimetype": "text/x-python",
   "name": "python",
   "nbconvert_exporter": "python",
   "pygments_lexer": "ipython2",
   "version": "2.7.15"
  }
 },
 "nbformat": 4,
 "nbformat_minor": 2
}
